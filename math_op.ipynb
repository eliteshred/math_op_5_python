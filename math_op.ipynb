{
 "cells": [
  {
   "cell_type": "markdown",
   "metadata": {},
   "source": [
    "#### Math_op using function and condition (val1,val2,op)"
   ]
  },
  {
   "cell_type": "code",
   "execution_count": 14,
   "metadata": {},
   "outputs": [
    {
     "name": "stdout",
     "output_type": "stream",
     "text": [
      "result_addition = 11\n",
      "result_subtraction = 3\n",
      "result_multiplication = 72\n",
      "result_division = 4.0\n",
      "No_result = no operation is given\n"
     ]
    }
   ],
   "source": [
    "def math_op (val1,val2,op):\n",
    "    cal = val1 + val2\n",
    "    cal1 = val1 - val2\n",
    "    cal2 = val1 * val2\n",
    "    cal3 =  val1 / val2\n",
    "\n",
    "    if op == 'add':\n",
    "       return cal\n",
    "    elif op == 'sub':\n",
    "       return cal1\n",
    "    elif op == 'mul':\n",
    "       return cal2\n",
    "    elif op == 'div':\n",
    "       return cal3\n",
    "    else:\n",
    "       return 'no operation is given'\n",
    "    \n",
    "print(f'result_addition = {math_op(5,6,'add')}')\n",
    "print(f'result_subtraction = {math_op(7,4,'sub')}')\n",
    "print(f'result_multiplication = {math_op(8,9,'mul')}')\n",
    "print(f'result_division = {math_op(8,2,'div')}')\n",
    "print(f'No_result = {math_op(5,6,' ')}')\n",
    "\n",
    "\n",
    "\n"
   ]
  },
  {
   "cell_type": "markdown",
   "metadata": {},
   "source": [
    "##### Print pyramid\n"
   ]
  },
  {
   "cell_type": "code",
   "execution_count": 15,
   "metadata": {},
   "outputs": [
    {
     "name": "stdout",
     "output_type": "stream",
     "text": [
      "     \n",
      "    *\n",
      "   ***\n",
      "  *****\n",
      " *******\n"
     ]
    }
   ],
   "source": [
    "def pyramid(a):\n",
    "    for i in range(a):\n",
    "        print(\" \" * (a - i - 1), end= \" \" )\n",
    "        print(\"*\" * (2 * i - 1))\n",
    "\n",
    "pyramid(5)\n",
    "    "
   ]
  }
 ],
 "metadata": {
  "kernelspec": {
   "display_name": "Python 3",
   "language": "python",
   "name": "python3"
  },
  "language_info": {
   "codemirror_mode": {
    "name": "ipython",
    "version": 3
   },
   "file_extension": ".py",
   "mimetype": "text/x-python",
   "name": "python",
   "nbconvert_exporter": "python",
   "pygments_lexer": "ipython3",
   "version": "3.12.4"
  }
 },
 "nbformat": 4,
 "nbformat_minor": 2
}
